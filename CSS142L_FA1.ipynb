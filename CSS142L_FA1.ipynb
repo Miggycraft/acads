{
 "cells": [
  {
   "cell_type": "markdown",
   "id": "f1d197e4-f522-4b96-9306-c449bba87e8b",
   "metadata": {},
   "source": [
    "# Setting up Python"
   ]
  },
  {
   "cell_type": "code",
   "execution_count": 5,
   "id": "1977f9c9-aa0c-444d-8ba7-cfa5b70f271c",
   "metadata": {},
   "outputs": [],
   "source": [
    "#Importing\n",
    "import random as r\n",
    "import time"
   ]
  },
  {
   "cell_type": "code",
   "execution_count": 2,
   "id": "604eb408-6267-42ce-b758-fa15b0bb608f",
   "metadata": {},
   "outputs": [],
   "source": [
    "#First Come First Serve Queue\n",
    "def fcfs(p_q, num_servers):\n",
    "    delays = [0] * len(p_q)\n",
    "    servers = [0] * num_servers  # This will keep track of when each server is free\n",
    "\n",
    "    for index, process in enumerate(p_q):\n",
    "        arrival_time, service_time = process\n",
    "\n",
    "        # Find the first available server\n",
    "        earliest_available_server = min(servers)\n",
    "        server_index = servers.index(earliest_available_server)\n",
    "\n",
    "        # If the process arrives after the server is available, it waits until it arrives\n",
    "        if arrival_time > servers[server_index]:\n",
    "            servers[server_index] = arrival_time\n",
    "\n",
    "        # Delay is the time the server has to wait for the process\n",
    "        delay = servers[server_index] - arrival_time\n",
    "        delays[index] = delay\n",
    "\n",
    "        # Update the server's next available time\n",
    "        servers[server_index] += service_time\n",
    "\n",
    "    print(delays)\n",
    "    dta = sum(delays) / len(delays)\n",
    "    print('delay time average:', dta)\n",
    "\n",
    "    services = flatten(p_q, 1)\n",
    "    print(services)\n",
    "    sta = sum(services) / len(services)\n",
    "    print('service time average:', sta)\n",
    "\n",
    "    wta = getwta(delays, services)\n",
    "    print(wta)\n",
    "    print('waiting time average:', sum(wta) / len(wta))"
   ]
  },
  {
   "cell_type": "code",
   "execution_count": 3,
   "id": "0f870870-0982-4eb5-8d5c-4a6c39d64c33",
   "metadata": {},
   "outputs": [],
   "source": [
    "#Helper Functions\n",
    "def flatten(array, index):\n",
    "    output = [array[0][index]]\n",
    "    for i in array[1:]:\n",
    "        output += [i[index]]\n",
    "    return output\n",
    "\n",
    "\n",
    "def getwta(arr1, arr2):\n",
    "    output = [arr1[0] + arr2[0]]\n",
    "    for i in (range(len(arr1) - 1)):\n",
    "        output += [arr1[i + 1] + arr2[i + 1]]\n",
    "    return output"
   ]
  },
  {
   "cell_type": "code",
   "execution_count": 4,
   "id": "3549deed-c98a-4c6e-bb54-deeef5122ce1",
   "metadata": {},
   "outputs": [],
   "source": [
    "# for question #2, to generate 100 services\n",
    "def gen_processes():\n",
    "    arrivals = [r.randint(1, 3), ]\n",
    "    delays = [r.randint(2, 5), ]\n",
    "    output = [[arrivals[0], delays[0]], ]\n",
    "    for i in range(99):\n",
    "        arrivals += [arrivals[i] + r.randint(1, 3)]\n",
    "        delays += [r.randint(2, 5)]\n",
    "        output += [[arrivals[i + 1], delays[i + 1]]]\n",
    "    return output"
   ]
  },
  {
   "cell_type": "markdown",
   "id": "c2847480-4efa-4b11-9888-03c7847c4c05",
   "metadata": {},
   "source": [
    "# QUESTION #1\n",
    "\n",
    "<img src=\"table.png\">\n",
    "\n",
    "From this table, determine the delay average, service time average, and waiting average\n",
    "\n",
    "Do this three times, incrementing a server for each steps"
   ]
  },
  {
   "cell_type": "code",
   "execution_count": 6,
   "id": "ca13f1ff-ec8a-474e-8e1b-5c568b0bff65",
   "metadata": {},
   "outputs": [
    {
     "name": "stdout",
     "output_type": "stream",
     "text": [
      "[0, 11, 23, 17, 35, 44, 70, 41, 0, 26]\n",
      "delay time average: 26.7\n",
      "[43, 36, 34, 30, 38, 40, 31, 29, 36, 30]\n",
      "service time average: 34.7\n",
      "[43, 47, 57, 47, 73, 84, 101, 70, 36, 56]\n",
      "waiting time average: 61.4\n"
     ]
    }
   ],
   "source": [
    "# Example process queue and number of servers\n",
    "isTimed = False\n",
    "num_servers = 1\n",
    "p_q = [[15, 43], [47, 36], [71, 34], [111, 30], [123, 38], [152, 40], [166, 31], [226, 29], [310, 36], [320, 30]]\n",
    "\n",
    "if isTimed:\n",
    "    start = time.time() * 1000\n",
    "\n",
    "fcfs(p_q, num_servers)\n",
    "\n",
    "if isTimed:\n",
    "    end = time.time() * 1000\n",
    "    print('Time duration (in ms):',end-start)"
   ]
  },
  {
   "cell_type": "code",
   "execution_count": 7,
   "id": "8044b403-1f05-45ce-be2b-2876b709eb4c",
   "metadata": {},
   "outputs": [
    {
     "name": "stdout",
     "output_type": "stream",
     "text": [
      "[0, 0, 0, 0, 0, 0, 0, 0, 0, 0]\n",
      "delay time average: 0.0\n",
      "[43, 36, 34, 30, 38, 40, 31, 29, 36, 30]\n",
      "service time average: 34.7\n",
      "[43, 36, 34, 30, 38, 40, 31, 29, 36, 30]\n",
      "waiting time average: 34.7\n"
     ]
    }
   ],
   "source": [
    "# Example process queue and number of servers\n",
    "isTimed = False\n",
    "num_servers = 2\n",
    "p_q = [[15, 43], [47, 36], [71, 34], [111, 30], [123, 38], [152, 40], [166, 31], [226, 29], [310, 36], [320, 30]]\n",
    "\n",
    "if isTimed:\n",
    "    start = time.time() * 1000\n",
    "\n",
    "fcfs(p_q, num_servers)\n",
    "\n",
    "if isTimed:\n",
    "    end = time.time() * 1000\n",
    "    print('Time duration (in ms):',end-start)"
   ]
  },
  {
   "cell_type": "code",
   "execution_count": 8,
   "id": "212843af-cc24-4460-985c-8e410687ad09",
   "metadata": {},
   "outputs": [
    {
     "name": "stdout",
     "output_type": "stream",
     "text": [
      "[0, 0, 0, 0, 0, 0, 0, 0, 0, 0]\n",
      "delay time average: 0.0\n",
      "[43, 36, 34, 30, 38, 40, 31, 29, 36, 30]\n",
      "service time average: 34.7\n",
      "[43, 36, 34, 30, 38, 40, 31, 29, 36, 30]\n",
      "waiting time average: 34.7\n"
     ]
    }
   ],
   "source": [
    "# Example process queue and number of servers\n",
    "isTimed = False\n",
    "num_servers = 3\n",
    "p_q = [[15, 43], [47, 36], [71, 34], [111, 30], [123, 38], [152, 40], [166, 31], [226, 29], [310, 36], [320, 30]]\n",
    "\n",
    "if isTimed:\n",
    "    start = time.time() * 1000\n",
    "\n",
    "fcfs(p_q, num_servers)\n",
    "\n",
    "if isTimed:\n",
    "    end = time.time() * 1000\n",
    "    print('Time duration (in ms):',end-start)"
   ]
  },
  {
   "cell_type": "markdown",
   "id": "b91e314c-66ed-4cfa-a3b5-6de13561cb11",
   "metadata": {},
   "source": [
    "# Question #2\n",
    "Create a queue with 100 request, each has an arrival time of 1 - 3 minutes interval, service time of 2 - 5 minutes per service\n",
    "\n",
    "Do this again with an increased server capacity"
   ]
  },
  {
   "cell_type": "code",
   "execution_count": 9,
   "id": "54e9f741-3a58-49ad-8730-553529f2870c",
   "metadata": {},
   "outputs": [
    {
     "name": "stdout",
     "output_type": "stream",
     "text": [
      "[0, 2, 4, 4, 6, 6, 7, 8, 9, 9, 9, 9, 11, 12, 15, 15, 17, 19, 22, 24, 24, 26, 26, 28, 29, 28, 28, 32, 33, 35, 37, 39, 39, 41, 44, 45, 45, 47, 47, 47, 47, 51, 54, 55, 55, 58, 59, 59, 62, 65, 69, 70, 71, 75, 76, 78, 80, 82, 85, 87, 90, 90, 89, 92, 94, 94, 94, 96, 97, 99, 102, 102, 103, 106, 108, 111, 114, 117, 116, 117, 119, 121, 125, 125, 125, 128, 129, 131, 133, 137, 138, 142, 144, 143, 144, 145, 148, 150, 151, 152]\n",
      "delay time average: 70.27\n",
      "[5, 3, 3, 5, 3, 3, 4, 4, 2, 2, 2, 5, 3, 5, 3, 5, 3, 4, 3, 2, 5, 3, 5, 3, 2, 3, 5, 2, 4, 3, 5, 3, 3, 4, 3, 3, 4, 3, 3, 3, 5, 4, 3, 3, 4, 2, 3, 4, 4, 5, 3, 3, 5, 4, 3, 3, 5, 5, 5, 5, 2, 2, 5, 4, 2, 2, 3, 4, 5, 5, 2, 2, 5, 3, 4, 5, 4, 2, 4, 4, 3, 5, 3, 2, 5, 4, 3, 3, 5, 4, 5, 3, 2, 3, 2, 5, 4, 4, 3, 2]\n",
      "service time average: 3.55\n",
      "[5, 5, 7, 9, 9, 9, 11, 12, 11, 11, 11, 14, 14, 17, 18, 20, 20, 23, 25, 26, 29, 29, 31, 31, 31, 31, 33, 34, 37, 38, 42, 42, 42, 45, 47, 48, 49, 50, 50, 50, 52, 55, 57, 58, 59, 60, 62, 63, 66, 70, 72, 73, 76, 79, 79, 81, 85, 87, 90, 92, 92, 92, 94, 96, 96, 96, 97, 100, 102, 104, 104, 104, 108, 109, 112, 116, 118, 119, 120, 121, 122, 126, 128, 127, 130, 132, 132, 134, 138, 141, 143, 145, 146, 146, 146, 150, 152, 154, 154, 154]\n",
      "waiting time average: 73.82\n",
      "Time duration (in ms): 0.0\n"
     ]
    }
   ],
   "source": [
    "# Example process queue and number of servers\n",
    "isTimed = True\n",
    "num_servers = 1\n",
    "p_q = gen_processes()\n",
    "\n",
    "if isTimed:\n",
    "    start = time.time() * 1000\n",
    "\n",
    "fcfs(p_q, num_servers)\n",
    "\n",
    "if isTimed:\n",
    "    end = time.time() * 1000\n",
    "    print('Time duration (in ms):',end-start)"
   ]
  },
  {
   "cell_type": "code",
   "execution_count": 10,
   "id": "d11ea3aa-ac00-403e-89e8-6c9dc83a176b",
   "metadata": {},
   "outputs": [
    {
     "name": "stdout",
     "output_type": "stream",
     "text": [
      "[0, 0, 0, 0, 0, 0, 0, 2, 0, 0, 0, 0, 2, 0, 1, 3, 1, 2, 0, 2, 1, 3, 1, 2, 1, 1, 3, 1, 2, 2, 2, 2, 0, 1, 0, 3, 2, 1, 0, 1, 0, 0, 1, 0, 1, 1, 1, 2, 1, 2, 2, 0, 0, 0, 0, 0, 0, 0, 0, 0, 0, 0, 0, 0, 0, 0, 0, 0, 0, 1, 2, 3, 2, 1, 3, 1, 2, 2, 4, 3, 2, 1, 1, 3, 4, 5, 5, 6, 4, 3, 3, 3, 1, 1, 1, 0, 0, 0, 1, 0]\n",
      "delay time average: 1.21\n",
      "[2, 4, 3, 4, 3, 4, 4, 5, 3, 4, 5, 4, 2, 5, 3, 2, 2, 4, 5, 5, 3, 5, 5, 3, 5, 3, 3, 4, 3, 3, 2, 4, 4, 5, 5, 4, 2, 5, 3, 4, 4, 2, 3, 2, 2, 3, 2, 4, 2, 3, 3, 5, 3, 2, 5, 2, 5, 2, 3, 4, 2, 3, 3, 3, 3, 3, 2, 4, 4, 5, 4, 3, 5, 4, 5, 5, 5, 5, 2, 3, 4, 5, 5, 5, 5, 4, 2, 5, 2, 4, 2, 2, 4, 2, 2, 3, 5, 5, 2, 2]\n",
      "service time average: 3.52\n",
      "[2, 4, 3, 4, 3, 4, 4, 7, 3, 4, 5, 4, 4, 5, 4, 5, 3, 6, 5, 7, 4, 8, 6, 5, 6, 4, 6, 5, 5, 5, 4, 6, 4, 6, 5, 7, 4, 6, 3, 5, 4, 2, 4, 2, 3, 4, 3, 6, 3, 5, 5, 5, 3, 2, 5, 2, 5, 2, 3, 4, 2, 3, 3, 3, 3, 3, 2, 4, 4, 6, 6, 6, 7, 5, 8, 6, 7, 7, 6, 6, 6, 6, 6, 8, 9, 9, 7, 11, 6, 7, 5, 5, 5, 3, 3, 3, 5, 5, 3, 2]\n",
      "waiting time average: 4.73\n",
      "Time duration (in ms): 0.0\n"
     ]
    }
   ],
   "source": [
    "# Example process queue and number of servers\n",
    "isTimed = True\n",
    "num_servers = 2\n",
    "p_q = gen_processes()\n",
    "\n",
    "if isTimed:\n",
    "    start = time.time() * 1000\n",
    "\n",
    "fcfs(p_q, num_servers)\n",
    "\n",
    "if isTimed:\n",
    "    end = time.time() * 1000\n",
    "    print('Time duration (in ms):',end-start)"
   ]
  },
  {
   "cell_type": "code",
   "execution_count": null,
   "id": "47492882-d241-476b-a7e3-fb32f79f4e70",
   "metadata": {},
   "outputs": [],
   "source": []
  }
 ],
 "metadata": {
  "kernelspec": {
   "display_name": "Python 3 (ipykernel)",
   "language": "python",
   "name": "python3"
  },
  "language_info": {
   "codemirror_mode": {
    "name": "ipython",
    "version": 3
   },
   "file_extension": ".py",
   "mimetype": "text/x-python",
   "name": "python",
   "nbconvert_exporter": "python",
   "pygments_lexer": "ipython3",
   "version": "3.11.4"
  }
 },
 "nbformat": 4,
 "nbformat_minor": 5
}
